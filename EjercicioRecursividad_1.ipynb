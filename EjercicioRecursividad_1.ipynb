{
  "nbformat": 4,
  "nbformat_minor": 0,
  "metadata": {
    "colab": {
      "provenance": [],
      "authorship_tag": "ABX9TyOWpZ7GTXfxEm3B6SGoHJKE",
      "include_colab_link": true
    },
    "kernelspec": {
      "name": "python3",
      "display_name": "Python 3"
    },
    "language_info": {
      "name": "python"
    }
  },
  "cells": [
    {
      "cell_type": "markdown",
      "metadata": {
        "id": "view-in-github",
        "colab_type": "text"
      },
      "source": [
        "<a href=\"https://colab.research.google.com/github/l24590562-cyber/ejerciciosMdeHanoiRecursividad/blob/main/EjercicioRecursividad_1.ipynb\" target=\"_parent\"><img src=\"https://colab.research.google.com/assets/colab-badge.svg\" alt=\"Open In Colab\"/></a>"
      ]
    },
    {
      "cell_type": "code",
      "execution_count": 4,
      "metadata": {
        "colab": {
          "base_uri": "https://localhost:8080/"
        },
        "id": "G_3cTDNm-H_j",
        "outputId": "576262c6-4a44-4f39-a745-de77634c7e17"
      },
      "outputs": [
        {
          "output_type": "stream",
          "name": "stdout",
          "text": [
            "Ingresa el número de discos: 2\n",
            "Resolviendo Torres de Hanoi con 2 discos:\n",
            "\n",
            "Mover disco 1 de A a B\n",
            "Mover disco 2 de A a C\n",
            "Mover disco 1 de B a C\n"
          ]
        }
      ],
      "source": [
        "#Brenda Avila Gutierrez\n",
        "#Grupo: C\n",
        "#Ingenieria en Sistemas Computacionales\n",
        "#Instituto Tecnologico de San Juan del Rio / Tecnológico Nacioanl de México\n",
        "# Estructura de Datos\n",
        "# Practica 1: de Recursividad Metodos de Hanoi\n",
        "\n",
        "def hanoi(n, origen, auxiliar, destino):\n",
        "    if n == 1:\n",
        "        print(\"Mover disco \" + str(1) + \" de \" + origen + \" a \" + destino)\n",
        "    else:\n",
        "        hanoi(n-1, origen, destino, auxiliar)\n",
        "        print(\"Mover disco \" + str(n) + \" de \" + origen + \" a \" + destino)\n",
        "        hanoi(n-1, auxiliar, origen, destino)\n",
        "\n",
        "n = int(input(\"Ingresa el número de discos: \"))\n",
        "\n",
        "print(\"Resolviendo Torres de Hanoi con \" + str(n) + \" discos:\\n\")\n",
        "hanoi(n, \"A\", \"B\", \"C\")\n",
        "\n"
      ]
    }
  ]
}