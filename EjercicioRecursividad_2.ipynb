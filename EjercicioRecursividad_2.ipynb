{
  "nbformat": 4,
  "nbformat_minor": 0,
  "metadata": {
    "colab": {
      "provenance": [],
      "authorship_tag": "ABX9TyOtQjkjhWhAIt/0YBvbMXqp",
      "include_colab_link": true
    },
    "kernelspec": {
      "name": "python3",
      "display_name": "Python 3"
    },
    "language_info": {
      "name": "python"
    }
  },
  "cells": [
    {
      "cell_type": "markdown",
      "metadata": {
        "id": "view-in-github",
        "colab_type": "text"
      },
      "source": [
        "<a href=\"https://colab.research.google.com/github/l24590562-cyber/ejerciciosMdeHanoiRecursividad/blob/main/EjercicioRecursividad_2.ipynb\" target=\"_parent\"><img src=\"https://colab.research.google.com/assets/colab-badge.svg\" alt=\"Open In Colab\"/></a>"
      ]
    },
    {
      "cell_type": "code",
      "execution_count": 3,
      "metadata": {
        "colab": {
          "base_uri": "https://localhost:8080/"
        },
        "id": "yy2-nZxQBdjV",
        "outputId": "ace0812e-3525-45b2-df51-7bc42e6da466"
      },
      "outputs": [
        {
          "output_type": "stream",
          "name": "stdout",
          "text": [
            "¿Cuántas cadenas de texto vas a ingresar?: 5\n",
            "Ingresa una cadena: de\n",
            "Ingresa una cadena: hola\n",
            "Ingresa una cadena: a\n",
            "Ingresa una cadena: e\n",
            "Ingresa una cadena: r\n",
            "Pila A (sílabas): ['r', 'hola', 'de']\n",
            "Pila B (vocales): ['e', 'a']\n"
          ]
        }
      ],
      "source": [
        "#Brenda Avila Gutierrez\n",
        "#Grupo: C\n",
        "#Ingenieria en Sistemas Computacionales\n",
        "#Practica 2: Recursividad Método de Hanoi\n",
        "#Estructura de datos\n",
        "#Istituto Tecnológico de San Juan del Rio / Tecnológico Nacional de México\n",
        "\n",
        "def mover(n, lista, A, B):\n",
        "    if n == 0:\n",
        "        return\n",
        "    else:\n",
        "        elemento = lista[n-1]\n",
        "        if elemento == \"a\" or elemento == \"e\" or elemento == \"i\" or elemento == \"o\" or elemento == \"u\":\n",
        "            B.append(elemento)\n",
        "        else:\n",
        "            A.append(elemento)\n",
        "\n",
        "        mover(n-1, lista, A, B)\n",
        "\n",
        "lista = []\n",
        "n = int(input(\"¿Cuántas cadenas de texto vas a ingresar?: \"))\n",
        "\n",
        "for i in range(n):\n",
        "    cadena = input(\"Ingresa una cadena: \")\n",
        "    lista.append(cadena)\n",
        "\n",
        "pilaA = []\n",
        "pilaB = []\n",
        "\n",
        "mover(n, lista, pilaA, pilaB)\n",
        "\n",
        "print(\"Pila A (sílabas): \" + str(pilaA))\n",
        "print(\"Pila B (vocales): \" + str(pilaB))\n"
      ]
    }
  ]
}